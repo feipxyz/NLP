{
 "cells": [
  {
   "cell_type": "markdown",
   "metadata": {},
   "source": [
    "---\n",
    "title: Pytorch入门实战：使用 Char-RNN 对名字进行分类  \n",
    "date: 2018-09-13 01:46:14    \n",
    "updated: 2018-09-13 01:46:14    \n",
    "tags:   \n",
    "mathjax: true  \n",
    "categories: ['深度学习', 'Pytorch与Mxnet']  \n",
    "\n",
    "---"
   ]
  },
  {
   "cell_type": "markdown",
   "metadata": {},
   "source": [
    "本文参考 pytorch 官网 tutorial，这次的任务是训练一个可以对名字进行国籍分类的网络。如：\n",
    "> zhang chinese  \n",
    "> Bob   english\n",
    "\n",
    "在官方教程的基础上，我实现了原始的 `RnnOrign`、`GRU` 与 `LSTM`。（这个 tutorial 上的模型与原始的 rnn 不一样）。但感觉这种单个字符使用 `GRU` 和 `LSTM` 的效果不是很好。"
   ]
  },
  {
   "cell_type": "markdown",
   "metadata": {},
   "source": [
    "# 准备数据\n",
    "Download the data from [here](https://download.pytorch.org/tutorial/data.zip) and extract it to the current directory."
   ]
  },
  {
   "cell_type": "markdown",
   "metadata": {},
   "source": [
    "- `unicodeToAscii`： `Unicode` 转为 `Ascii`。例如 `Čech` 转为 `Cech`。\n",
    "\n",
    "- `readLines`： 返回一个list，list中每一项代表文件中的一行，已经经过转码。\n",
    "\n",
    "- `category_lines`： `{'chinese':[...], 'Italian':[...], ...}`\n",
    "\n",
    "- `all_categories`: `['chinese', 'Italian', ...]`"
   ]
  },
  {
   "cell_type": "code",
   "execution_count": 1,
   "metadata": {
    "scrolled": true
   },
   "outputs": [
    {
     "name": "stdout",
     "output_type": "stream",
     "text": [
      "['./data/data/names/Chinese.txt', './data/data/names/Italian.txt', './data/data/names/Scottish.txt', './data/data/names/Dutch.txt', './data/data/names/Spanish.txt', './data/data/names/English.txt', './data/data/names/Vietnamese.txt', './data/data/names/German.txt', './data/data/names/Irish.txt', './data/data/names/Korean.txt', './data/data/names/Czech.txt', './data/data/names/Russian.txt', './data/data/names/Polish.txt', './data/data/names/Greek.txt', './data/data/names/French.txt', './data/data/names/Japanese.txt', './data/data/names/Arabic.txt', './data/data/names/Portuguese.txt']\n",
      "Slusarski\n"
     ]
    }
   ],
   "source": [
    "%matplotlib inline\n",
    "from __future__ import unicode_literals, print_function, division\n",
    "from io import open\n",
    "import glob\n",
    "import os\n",
    "\n",
    "def findFiles(path): return glob.glob(path)\n",
    "\n",
    "print(findFiles('./data/data/names/*.txt'))\n",
    "\n",
    "import unicodedata\n",
    "import string\n",
    "\n",
    "all_letters = string.ascii_letters + \" .,;'\"\n",
    "n_letters = len(all_letters)\n",
    "\n",
    "# Turn a Unicode string to plain ASCII, thanks to http://stackoverflow.com/a/518232/2809427\n",
    "def unicodeToAscii(s):\n",
    "    return ''.join(\n",
    "        c for c in unicodedata.normalize('NFD', s)\n",
    "        if unicodedata.category(c) != 'Mn'\n",
    "        and c in all_letters\n",
    "    )\n",
    "\n",
    "print(unicodeToAscii('Ślusàrski'))\n",
    "\n",
    "# Build the category_lines dictionary, a list of names per language\n",
    "category_lines = {}\n",
    "all_categories = []\n",
    "\n",
    "# Read a file and split into lines\n",
    "def readLines(filename):\n",
    "    lines = open(filename, encoding='utf-8').read().strip().split('\\n')\n",
    "    return [unicodeToAscii(line) for line in lines]\n",
    "\n",
    "for filename in findFiles('./data/data/names/*.txt'):\n",
    "    category = os.path.splitext(os.path.basename(filename))[0]\n",
    "    all_categories.append(category)\n",
    "    lines = readLines(filename)\n",
    "    category_lines[category] = lines\n",
    "\n",
    "n_categories = len(all_categories)"
   ]
  },
  {
   "cell_type": "code",
   "execution_count": 2,
   "metadata": {
    "scrolled": true
   },
   "outputs": [
    {
     "name": "stdout",
     "output_type": "stream",
     "text": [
      "['Abandonato', 'Abatangelo', 'Abatantuono', 'Abate', 'Abategiovanni']\n"
     ]
    }
   ],
   "source": [
    "print(category_lines['Italian'][:5])"
   ]
  },
  {
   "cell_type": "markdown",
   "metadata": {},
   "source": [
    "# 将名字转为Tensor\n",
    "\n",
    "- `letterToIndex`： 返回字符在所有 ascii 对应的 索引\n",
    "\n",
    "- `letterToTensor`： 返回字符 one-hot 编码，shape = (1, n_letters)\n",
    "\n",
    "- `lineToTensor`： 返回单词的 one-hot 编码， shape = (len(word), n_letters)"
   ]
  },
  {
   "cell_type": "code",
   "execution_count": 3,
   "metadata": {},
   "outputs": [
    {
     "name": "stdout",
     "output_type": "stream",
     "text": [
      "tensor([[0., 0., 0., 0., 0., 0., 0., 0., 0., 0., 0., 0., 0., 0., 0., 0., 0., 0.,\n",
      "         0., 0., 0., 0., 0., 0., 0., 0., 0., 0., 0., 0., 0., 0., 0., 0., 0., 1.,\n",
      "         0., 0., 0., 0., 0., 0., 0., 0., 0., 0., 0., 0., 0., 0., 0., 0., 0., 0.,\n",
      "         0., 0., 0.]])\n",
      "torch.Size([5, 1, 57])\n"
     ]
    }
   ],
   "source": [
    "import torch\n",
    "\n",
    "# Find letter index from all_letters, e.g. \"a\" = 0\n",
    "def letterToIndex(letter):\n",
    "    return all_letters.find(letter)\n",
    "\n",
    "# Just for demonstration, turn a letter into a <1 x n_letters> Tensor\n",
    "def letterToTensor(letter):\n",
    "    tensor = torch.zeros(1, n_letters)\n",
    "    tensor[0][letterToIndex(letter)] = 1\n",
    "    return tensor\n",
    "\n",
    "# Turn a line into a <line_length x 1 x n_letters>,\n",
    "# or an array of one-hot letter vectors\n",
    "def lineToTensor(line):\n",
    "    tensor = torch.zeros(len(line), 1, n_letters)\n",
    "    for li, letter in enumerate(line):\n",
    "        tensor[li][0][letterToIndex(letter)] = 1\n",
    "    return tensor\n",
    "\n",
    "print(letterToTensor('J'))\n",
    "\n",
    "print(lineToTensor('Jones').size())"
   ]
  },
  {
   "cell_type": "markdown",
   "metadata": {},
   "source": [
    "# 创建网络\n",
    "原文中的网络和一般的 rnn 网络不一样，计算流图长这样\n",
    "![image](/images/char_rnn_classification.png)"
   ]
  },
  {
   "cell_type": "code",
   "execution_count": 4,
   "metadata": {},
   "outputs": [],
   "source": [
    "import torch.nn as nn\n",
    "\n",
    "class RNN(nn.Module):\n",
    "    def __init__(self, input_size, hidden_size, output_size):\n",
    "        super(RNN, self).__init__()\n",
    "\n",
    "        self.hidden_size = hidden_size\n",
    "\n",
    "        self.i2h = nn.Linear(input_size + hidden_size, hidden_size)\n",
    "        self.i2o = nn.Linear(input_size + hidden_size, output_size)\n",
    "        self.softmax = nn.LogSoftmax(dim=1)\n",
    "\n",
    "    def forward(self, input, hidden):\n",
    "        combined = torch.cat((input, hidden), 1)\n",
    "        hidden = self.i2h(combined)\n",
    "        output = self.i2o(combined)\n",
    "        output = self.softmax(output)\n",
    "        return output, hidden\n",
    "\n",
    "    def initHidden(self):\n",
    "        return torch.zeros(1, self.hidden_size)"
   ]
  },
  {
   "cell_type": "markdown",
   "metadata": {},
   "source": [
    "我再建立一个原始的 RNN、GRU，最后分别比较它们的性能，原始的 RNN 网络长这样：\n",
    "![image](/images/rnn.svg)"
   ]
  },
  {
   "cell_type": "code",
   "execution_count": 5,
   "metadata": {
    "collapsed": true
   },
   "outputs": [],
   "source": [
    "class RnnOrign(nn.Module):\n",
    "    def __init__(self, input_size, hidden_size, output_size):\n",
    "        super().__init__()\n",
    "        \n",
    "        self.hidden_size = hidden_size\n",
    "        self.i2h = nn.Linear(input_size + hidden_size, hidden_size)\n",
    "        self.h2o = nn.Linear(hidden_size, output_size)\n",
    "        self.softmax = nn.LogSoftmax(dim=1)\n",
    "    \n",
    "    def forward(self, input, hidden):\n",
    "        combined = torch.cat((input, hidden), dim=1)\n",
    "        hidden = self.i2h(combined)\n",
    "        output = self.h2o(hidden)\n",
    "        output = self.softmax(output)\n",
    "        return output, hidden\n",
    "    \n",
    "    def initHidden(self):\n",
    "        return torch.zeros(1, self.hidden_size)"
   ]
  },
  {
   "cell_type": "markdown",
   "metadata": {},
   "source": [
    "建立一个GRU。"
   ]
  },
  {
   "cell_type": "code",
   "execution_count": 6,
   "metadata": {},
   "outputs": [],
   "source": [
    "class GRU(nn.Module):\n",
    "    def __init__(self, input_size, hidden_size, output_size):\n",
    "        super().__init__()\n",
    "        self.hidden_size = hidden_size\n",
    "        self.reset_gate = nn.Sequential(\n",
    "            nn.Linear(input_size + hidden_size, hidden_size),\n",
    "            nn.Sigmoid()\n",
    "        )\n",
    "        self.update_gate = nn.Sequential(\n",
    "            nn.Linear(input_size + hidden_size, hidden_size),\n",
    "            nn.Sigmoid()\n",
    "        )\n",
    "        \n",
    "        self.to_candidata = nn.Sequential(\n",
    "            nn.Linear(input_size + hidden_size, hidden_size),\n",
    "            nn.Tanh()\n",
    "        )\n",
    "        \n",
    "        self.to_output = nn.Linear(hidden_size, output_size)\n",
    "        self.softmax = nn.LogSoftmax(dim=1)\n",
    "        \n",
    "    def forward(self, input_data, hidden):\n",
    "        combined_ih = torch.cat((input_data, hidden), dim=1)\n",
    "        reset = self.reset_gate(combined_ih)\n",
    "        update = self.update_gate(combined_ih)\n",
    "        combined_ir = torch.cat((input_data, torch.mul(reset, hidden)), dim=1)\n",
    "        candidate = self.to_candidata(combined_ir)\n",
    "        hidden = torch.mul(update, hidden) + torch.mul((1 - update), candidate)\n",
    "        output = self.to_output(hidden)\n",
    "        output = self.softmax(output)\n",
    "        return output, hidden\n",
    "    \n",
    "    def initHidden(self):\n",
    "        return torch.zeros(1, self.hidden_size)\n",
    "        "
   ]
  },
  {
   "cell_type": "markdown",
   "metadata": {},
   "source": [
    "建立一个LSTM。"
   ]
  },
  {
   "cell_type": "code",
   "execution_count": 7,
   "metadata": {},
   "outputs": [],
   "source": [
    "class LSTM(nn.Module):\n",
    "    def __init__(self, input_size, hidden_size, output_size):\n",
    "        super().__init__()\n",
    "        self.hidden_size = hidden_size\n",
    "        \n",
    "        self.input_gate = nn.Sequential(\n",
    "            nn.Linear(input_size + hidden_size, hidden_size),\n",
    "            nn.Sigmoid()\n",
    "        )\n",
    "        \n",
    "        self.forget_gate = nn.Sequential(\n",
    "            nn.Linear(input_size + hidden_size, hidden_size),\n",
    "            nn.Sigmoid()\n",
    "        )\n",
    "        \n",
    "        self.output_gate = nn.Sequential(\n",
    "            nn.Linear(input_size + hidden_size, hidden_size),\n",
    "            nn.Sigmoid()\n",
    "        )\n",
    "        \n",
    "        self.to_candidate_cell = nn.Sequential(\n",
    "            nn.Linear(input_size + hidden_size, hidden_size),\n",
    "            nn.Tanh()\n",
    "        )\n",
    "        \n",
    "        self.to_output = nn.Linear(hidden_size, output_size)\n",
    "        \n",
    "        self.softmax = nn.LogSoftmax(dim=1)\n",
    "        \n",
    "        \n",
    "    def forward(self, input_data, hidden, cell):\n",
    "        combined_ih = torch.cat((input_data, hidden), dim=1)\n",
    "        \n",
    "        # 得到三个门\n",
    "        input_gate = self.input_gate(combined_ih)\n",
    "        forget_gate = self.forget_gate(combined_ih)\n",
    "        output_gate = self.output_gate(combined_ih)\n",
    "        \n",
    "        # 得到候选记忆细胞\n",
    "        candidate_cell = self.to_candidate_cell(combined_ih)\n",
    "        \n",
    "        # 得到真正的记忆细胞\n",
    "        cell = torch.mul(forget_gate, cell) + torch.mul(input_gate, candidate_cell)\n",
    "        \n",
    "        # 得到隐藏状态\n",
    "        hidden = torch.mul(output_gate, cell)\n",
    "        \n",
    "        # 得到输出\n",
    "        output = self.to_output(hidden)\n",
    "        output = self.softmax(output)\n",
    "        \n",
    "        return output, hidden, cell\n",
    "        \n",
    "    \n",
    "    def initHidden(self):\n",
    "        return torch.zeros(1, self.hidden_size)"
   ]
  },
  {
   "cell_type": "markdown",
   "metadata": {},
   "source": [
    "实例化网络"
   ]
  },
  {
   "cell_type": "code",
   "execution_count": 8,
   "metadata": {
    "collapsed": true
   },
   "outputs": [],
   "source": [
    "n_hidden = 128\n",
    "rnn = GRU(n_letters, n_hidden, n_categories)"
   ]
  },
  {
   "cell_type": "markdown",
   "metadata": {},
   "source": [
    "看看网络的输入输出是怎样的，先输入一个字母试试"
   ]
  },
  {
   "cell_type": "code",
   "execution_count": 9,
   "metadata": {},
   "outputs": [
    {
     "name": "stdout",
     "output_type": "stream",
     "text": [
      "output: tensor([[-2.9183, -2.9258, -2.8348, -2.8959, -2.9211, -2.8425, -2.8438, -2.9436,\n",
      "         -2.9522, -2.8383, -2.9769, -2.8509, -2.9041, -2.8288, -2.7987, -2.8841,\n",
      "         -2.9880, -2.9045]], grad_fn=<LogSoftmaxBackward>)\n",
      "hidden shape: torch.Size([1, 128])\n"
     ]
    }
   ],
   "source": [
    "input_letter = letterToTensor('A')\n",
    "hidden =torch.zeros(1, n_hidden)\n",
    "\n",
    "output, next_hidden = rnn(input_letter, hidden)\n",
    "print('output: {output}'.format(output=output))\n",
    "print('hidden shape: {0}'.format(next_hidden.shape))"
   ]
  },
  {
   "cell_type": "markdown",
   "metadata": {},
   "source": [
    "为了高效，我们会使用 `lineToTensor`"
   ]
  },
  {
   "cell_type": "code",
   "execution_count": 10,
   "metadata": {},
   "outputs": [
    {
     "name": "stdout",
     "output_type": "stream",
     "text": [
      "torch.Size([1, 18])\n"
     ]
    }
   ],
   "source": [
    "input_word = lineToTensor('Albert')\n",
    "hidden = torch.zeros(1, n_hidden)\n",
    "\n",
    "output, next_hidden = rnn(input_word[0], hidden)\n",
    "print(output.shape)"
   ]
  },
  {
   "cell_type": "markdown",
   "metadata": {},
   "source": [
    "As you can see the output is a ``<1 x n_categories>`` Tensor, where\n",
    "every item is the likelihood of that category (higher is more likely).\n",
    "\n",
    "\n"
   ]
  },
  {
   "cell_type": "markdown",
   "metadata": {},
   "source": [
    "# 训练"
   ]
  },
  {
   "cell_type": "markdown",
   "metadata": {},
   "source": [
    "## 训练准备"
   ]
  },
  {
   "cell_type": "markdown",
   "metadata": {},
   "source": [
    "rnn最后的输出是每种可能性的对数概率，我们需要一个函数，将对数概率转为相应的国家。"
   ]
  },
  {
   "cell_type": "code",
   "execution_count": 11,
   "metadata": {},
   "outputs": [
    {
     "name": "stdout",
     "output_type": "stream",
     "text": [
      "('French', 14)\n"
     ]
    }
   ],
   "source": [
    "def categoryFromOutput(output):\n",
    "    _, top_i = output.topk(1)\n",
    "    category_i = top_i[0].item()\n",
    "    return all_categories[category_i], category_i\n",
    "\n",
    "print(categoryFromOutput(output))"
   ]
  },
  {
   "cell_type": "markdown",
   "metadata": {},
   "source": [
    "我们也需要一个便捷的函数，来得到训练样本"
   ]
  },
  {
   "cell_type": "code",
   "execution_count": 12,
   "metadata": {
    "scrolled": true
   },
   "outputs": [
    {
     "name": "stdout",
     "output_type": "stream",
     "text": [
      "category = Dutch \t line = Pey\n",
      "category = Vietnamese \t line = Ly\n",
      "category = Korean \t line = San\n",
      "category = Czech \t line = StrakaO\n",
      "category = Irish \t line = O'Boyle\n"
     ]
    }
   ],
   "source": [
    "import random\n",
    "\n",
    "def randomChoice(l):\n",
    "    return l[random.randint(0, len(l) - 1)]\n",
    "\n",
    "def randomTrainingExample():\n",
    "    category = randomChoice(all_categories)\n",
    "    line = randomChoice(category_lines[category])\n",
    "    category_tensor = torch.tensor([all_categories.index(category)], dtype=torch.long)\n",
    "    line_tensor = lineToTensor(line)\n",
    "    return category, line, category_tensor, line_tensor\n",
    "\n",
    "for i in range(5):\n",
    "    category, line, category_tensor, line_tensor = randomTrainingExample()\n",
    "    print('category =', category, '\\t', 'line =', line)"
   ]
  },
  {
   "cell_type": "markdown",
   "metadata": {},
   "source": [
    "## 训练网络"
   ]
  },
  {
   "cell_type": "markdown",
   "metadata": {},
   "source": [
    "因为之前我们使用了 `nn.LogSoftmax` 作为输出，所以我们的 criterion 使用 `nn.NLLLoss`\n",
    "\n",
    "$$\n",
    "\\text{loss}(\\mathbf{X}, \\text{label}) = - \\mathbf{X}_{\\text{label}}\n",
    "$$"
   ]
  },
  {
   "cell_type": "code",
   "execution_count": 13,
   "metadata": {},
   "outputs": [],
   "source": [
    "criterion = nn.NLLLoss()"
   ]
  },
  {
   "cell_type": "markdown",
   "metadata": {},
   "source": [
    "每一轮训练我们将做下面的事情：\n",
    "1. 创建输入和目标张量\n",
    "2. 创建初始化为0的隐藏状态\n",
    "3. 前行传播每个字母的张量，输出 output 和 hidden\n",
    "4. 将最终输出与目标进行比较，求 loss\n",
    "5. 反向传播\n",
    "6. 返回输出和损失\n"
   ]
  },
  {
   "cell_type": "code",
   "execution_count": 14,
   "metadata": {},
   "outputs": [],
   "source": [
    "learning_rate = 0.005 # If you set this too high, it might explode. If too low, it might not learn\n",
    "\n",
    "def train(model, category_tensor, line_tensor):\n",
    "    hidden = model.initHidden()\n",
    "\n",
    "    rnn.zero_grad()\n",
    "\n",
    "    for i in range(line_tensor.size()[0]):\n",
    "        output, hidden = model(line_tensor[i], hidden)\n",
    "\n",
    "    loss = criterion(output, category_tensor)\n",
    "    loss.backward()\n",
    "\n",
    "    # Add parameters' gradients to their values, multiplied by learning rate\n",
    "    for p in rnn.parameters():\n",
    "        p.data.add_(-learning_rate, p.grad.data)\n",
    "\n",
    "    return output, loss.item()"
   ]
  },
  {
   "cell_type": "markdown",
   "metadata": {},
   "source": [
    "现在开始运行"
   ]
  },
  {
   "cell_type": "code",
   "execution_count": 15,
   "metadata": {},
   "outputs": [
    {
     "name": "stdout",
     "output_type": "stream",
     "text": [
      "5000 5% (0m 3s) 2.6303 Carmichael / Russian ✗ (English)\n",
      "10000 10% (0m 7s) 2.1603 Vicario / Portuguese ✗ (Spanish)\n",
      "15000 15% (0m 11s) 2.0848 Freitas / Greek ✗ (Portuguese)\n",
      "20000 20% (0m 15s) 2.1980 Dupond / English ✗ (French)\n",
      "25000 25% (0m 19s) 0.6740 Toloni / Italian ✓\n",
      "30000 30% (0m 23s) 1.2535 Pho / Korean ✗ (Vietnamese)\n",
      "35000 35% (0m 26s) 1.6050 Plisek / Polish ✗ (Czech)\n",
      "40000 40% (0m 29s) 0.0950 Filipowski / Polish ✓\n",
      "45000 45% (0m 32s) 6.6516 Gravari / Italian ✗ (Greek)\n",
      "50000 50% (0m 35s) 0.0115 Akrivopoulos / Greek ✓\n",
      "55000 55% (0m 40s) 0.7157 Medeiros / Portuguese ✓\n",
      "60000 60% (0m 45s) 0.3900 De santigo / Portuguese ✓\n",
      "65000 65% (0m 49s) 1.1226 Travieso / Spanish ✓\n",
      "70000 70% (0m 53s) 4.5673 Ville / English ✗ (Russian)\n",
      "75000 75% (0m 57s) 1.1974 Hang / Korean ✗ (Chinese)\n",
      "80000 80% (1m 1s) 1.7593 Rose / French ✓\n",
      "85000 85% (1m 4s) 0.6080 Lecuyer / French ✓\n",
      "90000 90% (1m 9s) 1.4378 Belanger / German ✗ (French)\n",
      "95000 95% (1m 12s) 0.2523 Wawrzaszek / Polish ✓\n",
      "100000 100% (1m 15s) 1.0511 Pelletier / French ✓\n"
     ]
    }
   ],
   "source": [
    "import time\n",
    "import math\n",
    "\n",
    "n_iters = 100000\n",
    "print_every = 5000\n",
    "plot_every = 1000\n",
    "\n",
    "def timeSince(since):\n",
    "    now = time.time()\n",
    "    s = now - since\n",
    "    m = math.floor(s / 60)\n",
    "    s -= m * 60\n",
    "    return '%dm %ds' % (m, s)\n",
    "\n",
    "\n",
    "\n",
    "def TrainIteration(model):\n",
    "    # Keep track of losses for plotting\n",
    "    current_loss = 0\n",
    "    all_losses = []\n",
    "    start = time.time()\n",
    "    for iter in range(1, n_iters + 1):\n",
    "        category, line, category_tensor, line_tensor = randomTrainingExample()\n",
    "        output, loss = train(model, category_tensor, line_tensor)\n",
    "        current_loss += loss\n",
    "\n",
    "        # Print iter number, loss, name and guess\n",
    "        if iter % print_every == 0:\n",
    "            guess, guess_i = categoryFromOutput(output)\n",
    "            correct = '✓' if guess == category else '✗ (%s)' % category\n",
    "            print('%d %d%% (%s) %.4f %s / %s %s' % (iter, iter / n_iters * 100, timeSince(start), loss, line, guess, correct))\n",
    "\n",
    "        # Add current loss avg to list of losses\n",
    "        if iter % plot_every == 0:\n",
    "            all_losses.append(current_loss / plot_every)\n",
    "            current_loss = 0\n",
    "    return all_losses\n",
    "            \n",
    "device = torch.device('cuda' if torch.cuda.is_available() else 'cpu')    \n",
    "rnn = RNN(n_letters, n_hidden, n_categories)\n",
    "all_losses = TrainIteration(rnn)"
   ]
  },
  {
   "cell_type": "markdown",
   "metadata": {},
   "source": [
    "Plotting the Results\n",
    "--------------------\n",
    "\n",
    "Plotting the historical loss from ``all_losses`` shows the network\n",
    "learning:\n",
    "\n",
    "\n"
   ]
  },
  {
   "cell_type": "code",
   "execution_count": 16,
   "metadata": {},
   "outputs": [
    {
     "data": {
      "text/plain": [
       "[<matplotlib.lines.Line2D at 0x7f5ae07bd710>]"
      ]
     },
     "execution_count": 16,
     "metadata": {},
     "output_type": "execute_result"
    },
    {
     "data": {
      "image/png": "[encoded data removed]",
      "text/plain": [
       "<matplotlib.figure.Figure at 0x7f5b1e58e390>"
      ]
     },
     "metadata": {},
     "output_type": "display_data"
    }
   ],
   "source": [
    "import matplotlib.pyplot as plt\n",
    "import matplotlib.ticker as ticker\n",
    "\n",
    "plt.figure()\n",
    "plt.plot(all_losses)"
   ]
  },
  {
   "cell_type": "markdown",
   "metadata": {},
   "source": [
    "# 评估结果"
   ]
  },
  {
   "cell_type": "markdown",
   "metadata": {},
   "source": [
    "为了知道网络在不同类别上的表现如何，我们将创建一个混淆矩阵，表示实际语言（行）网络猜测的语言（列）。"
   ]
  },
  {
   "cell_type": "code",
   "execution_count": 17,
   "metadata": {},
   "outputs": [
    {
     "data": {
      "image/png": "[encoded data removed]",
      "text/plain": [
       "<matplotlib.figure.Figure at 0x7f5ae0795780>"
      ]
     },
     "metadata": {},
     "output_type": "display_data"
    }
   ],
   "source": [
    "# Keep track of correct guesses in a confusion matrix\n",
    "confusion = torch.zeros(n_categories, n_categories)\n",
    "n_confusion = 10000\n",
    "\n",
    "# Just return an output given a line\n",
    "def evaluate(line_tensor):\n",
    "    hidden = rnn.initHidden()\n",
    "\n",
    "    for i in range(line_tensor.size()[0]):\n",
    "        output, hidden = rnn(line_tensor[i], hidden)\n",
    "\n",
    "    return output\n",
    "\n",
    "# Go through a bunch of examples and record which are correctly guessed\n",
    "for i in range(n_confusion):\n",
    "    category, line, category_tensor, line_tensor = randomTrainingExample()\n",
    "    output = evaluate(line_tensor)\n",
    "    guess, guess_i = categoryFromOutput(output)\n",
    "    category_i = all_categories.index(category)\n",
    "    confusion[category_i][guess_i] += 1\n",
    "\n",
    "# Normalize by dividing every row by its sum\n",
    "for i in range(n_categories):\n",
    "    confusion[i] = confusion[i] / confusion[i].sum()\n",
    "\n",
    "# Set up plot\n",
    "fig = plt.figure()\n",
    "ax = fig.add_subplot(111)\n",
    "cax = ax.matshow(confusion.numpy())\n",
    "fig.colorbar(cax)\n",
    "\n",
    "# Set up axes\n",
    "ax.set_xticklabels([''] + all_categories, rotation=90)\n",
    "ax.set_yticklabels([''] + all_categories)\n",
    "\n",
    "# Force label at every tick\n",
    "ax.xaxis.set_major_locator(ticker.MultipleLocator(1))\n",
    "ax.yaxis.set_major_locator(ticker.MultipleLocator(1))\n",
    "\n",
    "# sphinx_gallery_thumbnail_number = 2\n",
    "plt.show()"
   ]
  },
  {
   "cell_type": "markdown",
   "metadata": {},
   "source": [
    "我们也可以运行我们自己的输入"
   ]
  },
  {
   "cell_type": "code",
   "execution_count": 18,
   "metadata": {},
   "outputs": [
    {
     "name": "stdout",
     "output_type": "stream",
     "text": [
      "\n",
      "> Han\n",
      "(-0.31) Chinese\n",
      "(-2.01) Vietnamese\n",
      "(-2.77) Korean\n",
      "\n",
      "> Peng\n",
      "(-0.19) Chinese\n",
      "(-3.24) Dutch\n",
      "(-3.68) German\n",
      "\n",
      "> Jin\n",
      "(-0.29) Chinese\n",
      "(-2.17) Korean\n",
      "(-3.66) English\n"
     ]
    }
   ],
   "source": [
    "def predict(input_line, n_predictions=3):\n",
    "    print('\\n> %s' % input_line)\n",
    "    with torch.no_grad():\n",
    "        output = evaluate(lineToTensor(input_line))\n",
    "\n",
    "        # Get top N categories\n",
    "        topv, topi = output.topk(n_predictions, 1, True)\n",
    "        predictions = []\n",
    "\n",
    "        for i in range(n_predictions):\n",
    "            value = topv[0][i].item()\n",
    "            category_index = topi[0][i].item()\n",
    "            print('(%.2f) %s' % (value, all_categories[category_index]))\n",
    "            predictions.append([value, all_categories[category_index]])\n",
    "\n",
    "predict('Han')\n",
    "predict('Peng')\n",
    "predict('Jin')"
   ]
  }
 ],
 "metadata": {
  "kernelspec": {
   "display_name": "Python 3",
   "language": "python",
   "name": "python3"
  },
  "language_info": {
   "codemirror_mode": {
    "name": "ipython",
    "version": 3
   },
   "file_extension": ".py",
   "mimetype": "text/x-python",
   "name": "python",
   "nbconvert_exporter": "python",
   "pygments_lexer": "ipython3",
   "version": "3.6.2"
  }
 },
 "nbformat": 4,
 "nbformat_minor": 1
}
