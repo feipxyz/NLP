{
 "cells": [
  {
   "cell_type": "markdown",
   "metadata": {},
   "source": [
    "---\n",
    "title: Pytorch入门实战：神经机器翻译   \n",
    "date: 2018-12-11 01:46:14  \n",
    "updated: 2018-12-11 01:46:14  \n",
    "tags:   \n",
    "mathjax: true  \n",
    "categories: ['深度学习', 'Pytorch与Mxnet']  \n",
    "\n",
    "---"
   ]
  },
  {
   "cell_type": "code",
   "execution_count": 1,
   "metadata": {
    "collapsed": true
   },
   "outputs": [],
   "source": [
    "%matplotlib inline"
   ]
  },
  {
   "cell_type": "code",
   "execution_count": 2,
   "metadata": {},
   "outputs": [
    {
     "data": {
      "text/plain": [
       "device(type='cuda')"
      ]
     },
     "execution_count": 2,
     "metadata": {},
     "output_type": "execute_result"
    }
   ],
   "source": [
    "from __future__ import unicode_literals, print_function, division\n",
    "from io import open\n",
    "import unicodedata\n",
    "import string\n",
    "import re\n",
    "import random\n",
    "\n",
    "import torch\n",
    "import torch.nn as nn\n",
    "from torch import optim\n",
    "import torch.nn.functional as F\n",
    "\n",
    "import os\n",
    "\n",
    "device = torch.device(\"cuda\" if torch.cuda.is_available() else \"cpu\")\n",
    "device"
   ]
  },
  {
   "cell_type": "markdown",
   "metadata": {},
   "source": [
    "# 载入数据文件\n",
    "\n",
    "这个项目的数据是很多的的英语法语翻译对。数据太大没有包含在 repo 中，所以下载到``data / eng-fra.txt``。 该文件是以制表符分隔的翻译对列表：\n",
    "\n",
    "`I am cold.    J'ai froid.`\n",
    "\n",
    "[下载地址](https://download.pytorch.org/tutorial/data.zip)\n",
    "\n"
   ]
  },
  {
   "cell_type": "markdown",
   "metadata": {},
   "source": [
    "我们将语言中的每个单词表示为一个 one-hot 向量。 因为有很多很多单词，编码矢量会很大。我么可以修剪数据，每种语言仅使用几千个单词。"
   ]
  },
  {
   "cell_type": "markdown",
   "metadata": {},
   "source": [
    "我们需要每个单词的唯一索引，以便用作网络的输入和目标。为了跟踪所有这些，我们将使用一个名为 Lang 的辅助类，它具有 word→index（word2index）和 index→word（index2word）以及 word2count 的计数的字典。"
   ]
  },
  {
   "cell_type": "code",
   "execution_count": 3,
   "metadata": {
    "collapsed": true
   },
   "outputs": [],
   "source": [
    "SOS_token = 0\n",
    "EOS_token = 1\n",
    "\n",
    "\n",
    "class Lang:\n",
    "    def __init__(self, name):\n",
    "        self.name = name\n",
    "        self.word2index = {}\n",
    "        self.word2count = {}\n",
    "        self.index2word = {0: \"SOS\", 1: \"EOS\"}\n",
    "        self.n_words = 2  # Count SOS and EOS\n",
    "\n",
    "    def addSentence(self, sentence):\n",
    "        for word in sentence.split(' '):\n",
    "            self.addWord(word)\n",
    "\n",
    "    def addWord(self, word):\n",
    "        if word not in self.word2index:\n",
    "            self.word2index[word] = self.n_words\n",
    "            self.word2count[word] = 1\n",
    "            self.index2word[self.n_words] = word\n",
    "            self.n_words += 1\n",
    "        else:\n",
    "            self.word2count[word] += 1"
   ]
  },
  {
   "cell_type": "markdown",
   "metadata": {},
   "source": [
    "这些文件都是 Unicode 格式，我们将 Unicode 字符转换为 ASCII，把所有内容都转为小写，并修剪大多数标点符号。"
   ]
  },
  {
   "cell_type": "code",
   "execution_count": 4,
   "metadata": {
    "collapsed": true
   },
   "outputs": [],
   "source": [
    "# Turn a Unicode string to plain ASCII, thanks to\n",
    "# http://stackoverflow.com/a/518232/2809427\n",
    "def unicodeToAscii(s):\n",
    "    return ''.join(\n",
    "        c for c in unicodedata.normalize('NFD', s)\n",
    "        if unicodedata.category(c) != 'Mn'\n",
    "    )\n",
    "\n",
    "# Lowercase, trim, and remove non-letter characters\n",
    "\n",
    "\n",
    "def normalizeString(s):\n",
    "    s = unicodeToAscii(s.lower().strip())\n",
    "    s = re.sub(r\"([.!?])\", r\" \\1\", s)\n",
    "    s = re.sub(r\"[^a-zA-Z.!?]+\", r\" \", s)\n",
    "    return s"
   ]
  },
  {
   "cell_type": "markdown",
   "metadata": {},
   "source": [
    "为了读取数据文件，我们将文件拆分为行，然后将行拆分成对。 这些文件都是英语→其他语言，所以如果我们想翻译其他语言→英语，需要添加反向标志来反转对。"
   ]
  },
  {
   "cell_type": "code",
   "execution_count": 5,
   "metadata": {
    "collapsed": true
   },
   "outputs": [],
   "source": [
    "def readLangs(lang1, lang2, reverse=False):\n",
    "    print(\"Reading lines...\")\n",
    "\n",
    "    # Read the file and split into lines\n",
    "    lines = open('data/translation/%s-%s.txt' % (lang1, lang2), encoding='utf-8').\\\n",
    "        read().strip().split('\\n')\n",
    "\n",
    "    # Split every line into pairs and normalize\n",
    "    pairs = [[normalizeString(s) for s in l.split('\\t')] for l in lines]\n",
    "\n",
    "    # Reverse pairs, make Lang instances\n",
    "    if reverse:\n",
    "        pairs = [list(reversed(p)) for p in pairs]\n",
    "        input_lang = Lang(lang2)\n",
    "        output_lang = Lang(lang1)\n",
    "    else:\n",
    "        input_lang = Lang(lang1)\n",
    "        output_lang = Lang(lang2)\n",
    "\n",
    "    return input_lang, output_lang, pairs"
   ]
  },
  {
   "cell_type": "markdown",
   "metadata": {},
   "source": [
    "数据集有很多例句，为了快速训练我们会将数据集修剪成相对简短的句子。 这里最大长度是10个单词（包括结束标点符号）。考虑到 \"I am\" 或者 \"He is\" 有可能有缩写撇号，我们将这种句子全部转换。"
   ]
  },
  {
   "cell_type": "code",
   "execution_count": 6,
   "metadata": {
    "collapsed": true
   },
   "outputs": [],
   "source": [
    "MAX_LENGTH = 10\n",
    "\n",
    "eng_prefixes = (\n",
    "    \"i am \", \"i m \",\n",
    "    \"he is\", \"he s \",\n",
    "    \"she is\", \"she s\",\n",
    "    \"you are\", \"you re \",\n",
    "    \"we are\", \"we re \",\n",
    "    \"they are\", \"they re \"\n",
    ")\n",
    "\n",
    "\n",
    "def filterPair(p):\n",
    "    return len(p[0].split(' ')) < MAX_LENGTH and \\\n",
    "        len(p[1].split(' ')) < MAX_LENGTH and \\\n",
    "        p[1].startswith(eng_prefixes)\n",
    "\n",
    "\n",
    "def filterPairs(pairs):\n",
    "    return [pair for pair in pairs if filterPair(pair)]"
   ]
  },
  {
   "cell_type": "markdown",
   "metadata": {},
   "source": [
    "准备数据的完整过程是：\n",
    "\n",
    "- 读取文本文件并拆分成行，将行拆分成对\n",
    "- 标准化文本，按长度和内容过滤\n",
    "- 从成对的句子中制作单词列表\n"
   ]
  },
  {
   "cell_type": "code",
   "execution_count": 7,
   "metadata": {},
   "outputs": [
    {
     "name": "stdout",
     "output_type": "stream",
     "text": [
      "Reading lines...\n",
      "Read 160872 sentence pairs\n",
      "Trimmed to 12244 sentence pairs\n",
      "Counting words...\n",
      "Counted words:\n",
      "fra 4785\n",
      "eng 3116\n",
      "['tu n es pas seul .', 'you re not alone .']\n"
     ]
    }
   ],
   "source": [
    "def prepareData(lang1, lang2, reverse=False):\n",
    "    input_lang, output_lang, pairs = readLangs(lang1, lang2, reverse)\n",
    "    print(\"Read %s sentence pairs\" % len(pairs))\n",
    "    pairs = filterPairs(pairs)\n",
    "    print(\"Trimmed to %s sentence pairs\" % len(pairs))\n",
    "    print(\"Counting words...\")\n",
    "    for pair in pairs:\n",
    "        input_lang.addSentence(pair[0])\n",
    "        output_lang.addSentence(pair[1])\n",
    "    print(\"Counted words:\")\n",
    "    print(input_lang.name, input_lang.n_words)\n",
    "    print(output_lang.name, output_lang.n_words)\n",
    "    return input_lang, output_lang, pairs\n",
    "\n",
    "\n",
    "input_lang, output_lang, pairs = prepareData('eng', 'fra', True)\n",
    "print(random.choice(pairs))"
   ]
  },
  {
   "cell_type": "markdown",
   "metadata": {},
   "source": [
    "# The Seq2Seq Model\n",
    "\n",
    "我们使用 Seq2Seq 模型。"
   ]
  },
  {
   "cell_type": "markdown",
   "metadata": {},
   "source": [
    "## The Encoder\n",
    "\n",
    "seq2seq 网络的编码器是 RNN，它为输入句子中的每个单词输出一些值。 对于每个输入单词，编码器输出一个 output 向量和隐藏状态向量，并将隐藏状态用于下一个单词的输入。"
   ]
  },
  {
   "cell_type": "markdown",
   "metadata": {},
   "source": [
    "<img src=\"./img/encoder-network.png\">"
   ]
  },
  {
   "cell_type": "code",
   "execution_count": 8,
   "metadata": {
    "collapsed": true
   },
   "outputs": [],
   "source": [
    "class EncoderRNN(nn.Module):\n",
    "    def __init__(self, input_size, hidden_size):\n",
    "        super(EncoderRNN, self).__init__()\n",
    "        self.hidden_size = hidden_size\n",
    "\n",
    "        self.embedding = nn.Embedding(input_size, hidden_size)\n",
    "        self.gru = nn.GRU(hidden_size, hidden_size)\n",
    "\n",
    "    def forward(self, input, hidden):\n",
    "        embedded = self.embedding(input).view(1, 1, -1)\n",
    "        output = embedded\n",
    "        output, hidden = self.gru(output, hidden)\n",
    "        return output, hidden\n",
    "\n",
    "    def initHidden(self):\n",
    "        return torch.zeros(1, 1, self.hidden_size, device=device)"
   ]
  },
  {
   "cell_type": "markdown",
   "metadata": {},
   "source": [
    "## The Decoder\n",
    "解码器是另一个 RNN，它接收编码器输出向量并输出一系列字进行翻译。"
   ]
  },
  {
   "cell_type": "markdown",
   "metadata": {},
   "source": [
    "在最简单的 seq2seq 解码器中，我们仅使用编码器的最后一个输出。 最后一个输出经常称为上下文向量，因为它对整个序列中的上下文进行编码。 该上下文向量用作解码器的初始隐藏状态。\n",
    "\n",
    "在解码的每个步骤中，给予解码器一个 input token 和隐藏状态。 以 `<SOS>` 标记初始输入，第一个隐藏状态是上下文向量（编码器的最后隐藏状态）。"
   ]
  },
  {
   "cell_type": "markdown",
   "metadata": {},
   "source": [
    "<img src=\"./img/decoder-network.png\">"
   ]
  },
  {
   "cell_type": "code",
   "execution_count": 9,
   "metadata": {
    "collapsed": true
   },
   "outputs": [],
   "source": [
    "class DecoderRNN(nn.Module):\n",
    "    def __init__(self, hidden_size, output_size):\n",
    "        super(DecoderRNN, self).__init__()\n",
    "        self.hidden_size = hidden_size\n",
    "\n",
    "        self.embedding = nn.Embedding(output_size, hidden_size)\n",
    "        self.gru = nn.GRU(hidden_size, hidden_size)\n",
    "        self.out = nn.Linear(hidden_size, output_size)\n",
    "        self.softmax = nn.LogSoftmax(dim=1)\n",
    "\n",
    "    def forward(self, input, hidden):\n",
    "        output = self.embedding(input).view(1, 1, -1)\n",
    "        output = F.relu(output)\n",
    "        output, hidden = self.gru(output, hidden)\n",
    "        output = self.softmax(self.out(output[0]))\n",
    "        return output, hidden\n",
    "\n",
    "    def initHidden(self):\n",
    "        return torch.zeros(1, 1, self.hidden_size, device=device)"
   ]
  },
  {
   "cell_type": "code",
   "execution_count": 10,
   "metadata": {
    "collapsed": true
   },
   "outputs": [],
   "source": [
    "# class EncoderRNN(nn.Module):\n",
    "#     def __init__(self, words_size, hidden_size, n_layers=1, bidirectional=False, dropout=0):\n",
    "#         super(EncoderRNN, self).__init__()\n",
    "#         self.hidden_size = hidden_size\n",
    "#         self.bidirectional = bidirectional\n",
    "\n",
    "#         self.embedding = nn.Embedding(words_size, hidden_size)\n",
    "#         self.gru = nn.GRU(hidden_size, hidden_size, n_layers, dropout=dropout,\n",
    "#                           bidirectional=self.bidirectional)\n",
    "\n",
    "#     def forward(self, input_data, input_lengths, hidden=None):\n",
    "#         \"\"\"\n",
    "#         :param input_data: shape=(time_steps, batch_size)\n",
    "#         :param input_lengths: shape=(batch_size)\n",
    "#         :param hidden: shape=(n_layers*num_directions, batch_size, hidden_size)\n",
    "#         :return:\n",
    "#         \"\"\"\n",
    "#         embedded = self.embedding(input_data)\n",
    "#         packed = torch.nn.utils.rnn.pack_padded_sequence(embedded, input_lengths)\n",
    "#         outputs, hidden = self.gru(packed, hidden)\n",
    "#         outputs, _ = torch.nn.utils.rnn.pad_packed_sequence(outputs)\n",
    "#         if self.bidirectional == True:\n",
    "#             outputs = outputs[:, :, self.hidden_size] + outputs[:, :, self.hidden_size:]\n",
    "#         return outputs, hidden"
   ]
  },
  {
   "cell_type": "code",
   "execution_count": 11,
   "metadata": {
    "collapsed": true
   },
   "outputs": [],
   "source": [
    "# encoder = EncoderRNN(3112, 256)\n",
    "# input_tensor = torch.rand(8, 5).to(torch.long)\n",
    "# input_lengths = torch.tensor([8, 7, 6, 5, 4], dtype=torch.long)\n",
    "# outputs, hidden = encoder(input_tensor, input_lengths)"
   ]
  },
  {
   "cell_type": "code",
   "execution_count": 12,
   "metadata": {
    "collapsed": true
   },
   "outputs": [],
   "source": [
    "# outputs.shape"
   ]
  },
  {
   "cell_type": "code",
   "execution_count": 13,
   "metadata": {
    "collapsed": true
   },
   "outputs": [],
   "source": [
    "# hidden.shape"
   ]
  },
  {
   "cell_type": "markdown",
   "metadata": {},
   "source": [
    "I encourage you to train and observe the results of this model, but to\n",
    "save space we'll be going straight for the gold and introducing the\n",
    "Attention Mechanism.\n",
    "\n",
    "\n"
   ]
  },
  {
   "cell_type": "markdown",
   "metadata": {},
   "source": [
    "### 加入注意力机制的 Decoder\n",
    "\n",
    "如果上下文向量固定不变，则无论编码序列多长，这个单个上下文向量将承担编码所有信息的重担。加入注意力机制能有效解决这个问题。\n",
    "\n",
    "<img src=\"./img/attention-decoder-network.png\">"
   ]
  },
  {
   "cell_type": "code",
   "execution_count": 14,
   "metadata": {
    "collapsed": true
   },
   "outputs": [],
   "source": [
    "class AttnDecoderRNN(nn.Module):\n",
    "    def __init__(self, hidden_size, output_size, dropout_p=0.1, max_length=MAX_LENGTH):\n",
    "        super(AttnDecoderRNN, self).__init__()\n",
    "        self.hidden_size = hidden_size\n",
    "        self.output_size = output_size\n",
    "        self.dropout_p = dropout_p\n",
    "        self.max_length = max_length\n",
    "\n",
    "        self.embedding = nn.Embedding(self.output_size, self.hidden_size)\n",
    "        self.attn = nn.Linear(self.hidden_size * 2, self.max_length)\n",
    "        self.attn_combine = nn.Linear(self.hidden_size * 2, self.hidden_size)\n",
    "        self.dropout = nn.Dropout(self.dropout_p)\n",
    "        self.gru = nn.GRU(self.hidden_size, self.hidden_size)\n",
    "        self.out = nn.Linear(self.hidden_size, self.output_size)\n",
    "\n",
    "    def forward(self, input, hidden, encoder_outputs):\n",
    "        embedded = self.embedding(input).view(1, 1, -1)\n",
    "        embedded = self.dropout(embedded)\n",
    "\n",
    "        attn_weights = F.softmax(\n",
    "            self.attn(torch.cat((embedded[0], hidden[0]), 1)), dim=1)\n",
    "        attn_applied = torch.bmm(attn_weights.unsqueeze(0),\n",
    "                                 encoder_outputs.unsqueeze(0))\n",
    "\n",
    "        output = torch.cat((embedded[0], attn_applied[0]), 1)\n",
    "        output = self.attn_combine(output).unsqueeze(0)\n",
    "\n",
    "        output = F.relu(output)\n",
    "        output, hidden = self.gru(output, hidden)\n",
    "\n",
    "        output = F.log_softmax(self.out(output[0]), dim=1)\n",
    "        return output, hidden, attn_weights\n",
    "\n",
    "    def initHidden(self):\n",
    "        return torch.zeros(1, 1, self.hidden_size, device=device)"
   ]
  },
  {
   "cell_type": "code",
   "execution_count": 15,
   "metadata": {
    "collapsed": true
   },
   "outputs": [],
   "source": [
    "class Attn(nn.Module):\n",
    "    def __init__(self, method, hidden_size, v_dim=10):\n",
    "        super().__init__()\n",
    "        self.method = method\n",
    "        if self.method not in ['origin','dot1', 'dot2', 'general', 'concat']:\n",
    "            raise ValueError(self.method, 'is not an approprite attention method.')\n",
    "        \n",
    "        self.hidden_size = hidden_size\n",
    "        if self.method == 'origin':\n",
    "            self.attn = nn.Sequential(\n",
    "                nn.Linear(2 * hidden_size, v_dim, bias=False),\n",
    "                nn.Tanh(),\n",
    "                nn.Linear(v_dim, 1, bias=False)\n",
    "            )\n",
    "        elif self.method == 'general':\n",
    "            self.attn = nn.Linear(self.hidden_size, hidden_size)\n",
    "        elif self.method == 'concat':\n",
    "            self.attn = nn.Linear(self.hidden_size * 2, hidden_size)\n",
    "            self.v = nn.Parameter(torch.FloatTensor(hidden_size))\n",
    "        \n",
    "    def origin_score(self, hidden, encoder_outputs):\n",
    "        hidden = hidden.expand(encoder_outputs.shape[0], encoder_outputs.shape[1], -1)\n",
    "        concated = torch.cat((hidden, encoder_outputs), dim=2)\n",
    "        return self.attn(concated).squeeze(-1)\n",
    "    \n",
    "    def dot_score1(self, hidden, encoder_outputs):\n",
    "        return torch.sum(hidden * encoder_outputs, dim=2)\n",
    "    \n",
    "    def dot_score2(self, hidden, encoder_outputs):\n",
    "        return torch.sum(hidden * encoder_outputs, dim=2) / \\\n",
    "    (torch.sum(hidden * hidden)) * (torch.sum(encoder_outputs * encoder_outputs, dim=2) + 0.0001)\n",
    "    \n",
    "    def general_score(self, hidden, encoder_outputs):\n",
    "        energy = self.attn(encoder_outputs)\n",
    "        return torch.sum(hidden * energy, dim=2)\n",
    "    \n",
    "    def concat_score(self, hidden, encoder_outputs):\n",
    "        energy = self.attn(torch.cat((hidden.expand(encoder_outputs.shape[0], encoder_outputs.shape[1], -1), encoder_outputs), dim=2))\n",
    "        # 这里是否可以搞成一个linear层\n",
    "        return torch.sum(self.v * energy, dim=2)\n",
    "    \n",
    "    def forward(self, hidden, encoder_outputs):\n",
    "        if self.method == 'general':\n",
    "            attn_energies = self.general_score(hidden, encoder_outputs)\n",
    "        elif self.method == 'dot1':\n",
    "            attn_energies = self.dot_score1(hidden, encoder_outputs)\n",
    "        elif self.method == 'dot2':\n",
    "            attn_energies = self.dot_score2(hidden, encoder_outputs)\n",
    "        elif self.method == 'concat':\n",
    "            attn_energies = self.concat_score(hidden, encoder_outputs)\n",
    "        elif self.method == 'origin':\n",
    "            attn_energies = self.origin_score(hidden, encoder_outputs)\n",
    "        # attn_energies从(time_steps, batch) --> (batch, time_steps)\n",
    "        attn_energies = attn_energies.t()\n",
    "        \n",
    "        return F.softmax(attn_energies, dim=1).unsqueeze(1)"
   ]
  },
  {
   "cell_type": "code",
   "execution_count": 16,
   "metadata": {},
   "outputs": [
    {
     "data": {
      "text/plain": [
       "torch.Size([1, 1, 10])"
      ]
     },
     "execution_count": 16,
     "metadata": {},
     "output_type": "execute_result"
    }
   ],
   "source": [
    "attn = Attn('origin', 256)\n",
    "a = torch.rand(1, 1, 256)\n",
    "b = torch.rand(10, 1, 256)\n",
    "c = attn(a, b)\n",
    "c.shape"
   ]
  },
  {
   "cell_type": "code",
   "execution_count": 17,
   "metadata": {
    "collapsed": true
   },
   "outputs": [],
   "source": [
    "# 可以把input全部搞成 batch × 256\n",
    "class CustomizeDecoderRNN(nn.Module):\n",
    "    def __init__(self, attn_model, hidden_size, output_size, n_layers=1, \n",
    "                 dropout_p=0.1, max_length=MAX_LENGTH):\n",
    "        super().__init__()\n",
    "        self.attn_model = attn_model\n",
    "        self.hidden_size = hidden_size\n",
    "        self.output_size = output_size\n",
    "        self.n_layers = n_layers\n",
    "        self.dropout_p = dropout_p\n",
    "        self.max_length = max_length\n",
    "        \n",
    "        self.embedding = nn.Embedding(self.output_size, self.hidden_size)\n",
    "        self.drop = nn.Dropout(dropout_p)\n",
    "        self.attn = Attn(attn_model, hidden_size)\n",
    "        self.attn_combine = nn.Linear(2 * hidden_size, hidden_size)\n",
    "        self.gru = nn.GRU(2 * self.hidden_size, self.hidden_size)\n",
    "        self.out = nn.Linear(self.hidden_size, self.output_size)\n",
    "    \n",
    "    def forward(self, input_data, hidden, encoder_outputs):\n",
    "        embedded = self.embedding(input_data).view(1, 1, -1)\n",
    "        embedded = self.drop(embedded)\n",
    "        encoder_outputs = torch.unsqueeze(encoder_outputs, dim=1)\n",
    "        # 这里是用了hidden，能不能用input_data\n",
    "        attn_weight = self.attn(hidden, encoder_outputs)\n",
    "        context = torch.bmm(attn_weight, encoder_outputs.transpose(0, 1))\n",
    "        input_and_ctx = torch.cat((embedded, context), dim=2)\n",
    "#         embedded = self.attn_combine(torch.cat((embedded, context), dim=2))\n",
    "        # 这里要不要对output再加一个relu\n",
    "#         embedded = F.relu(embedded)\n",
    "        \n",
    "        output, hidden = self.gru(input_and_ctx, hidden)\n",
    "        output = F.log_softmax(self.out(output[0]), dim=1)\n",
    "\n",
    "        return output, hidden, attn_weight.squeeze(1)\n",
    "        \n",
    "        \n",
    "        "
   ]
  },
  {
   "cell_type": "code",
   "execution_count": 18,
   "metadata": {
    "collapsed": true
   },
   "outputs": [],
   "source": [
    "model = CustomizeDecoderRNN('origin', 256, 3112)\n",
    "# model = AttnDecoderRNN(256, 3122)"
   ]
  },
  {
   "cell_type": "code",
   "execution_count": 19,
   "metadata": {},
   "outputs": [
    {
     "data": {
      "text/plain": [
       "(torch.Size([1, 3112]), torch.Size([1, 1, 256]), torch.Size([1, 10]))"
      ]
     },
     "execution_count": 19,
     "metadata": {},
     "output_type": "execute_result"
    }
   ],
   "source": [
    "input_data = torch.tensor([1])\n",
    "hidden = torch.rand(1, 1, 256)\n",
    "encoder_outputs = torch.rand(10, 256)\n",
    "output, hidden, attn_weight = model(input_data, hidden, encoder_outputs)\n",
    "output.shape, hidden.shape, attn_weight.shape"
   ]
  },
  {
   "cell_type": "code",
   "execution_count": 20,
   "metadata": {
    "collapsed": true
   },
   "outputs": [],
   "source": [
    "topv, topi = output.topk(1)\n",
    "decoder_input = topi.squeeze().detach()"
   ]
  },
  {
   "cell_type": "code",
   "execution_count": 21,
   "metadata": {},
   "outputs": [
    {
     "data": {
      "text/plain": [
       "tensor(1849)"
      ]
     },
     "execution_count": 21,
     "metadata": {},
     "output_type": "execute_result"
    }
   ],
   "source": [
    "decoder_input"
   ]
  },
  {
   "cell_type": "code",
   "execution_count": 22,
   "metadata": {},
   "outputs": [
    {
     "data": {
      "text/plain": [
       "tensor([[1849]])"
      ]
     },
     "execution_count": 22,
     "metadata": {},
     "output_type": "execute_result"
    }
   ],
   "source": [
    "topi"
   ]
  },
  {
   "cell_type": "code",
   "execution_count": 23,
   "metadata": {},
   "outputs": [
    {
     "data": {
      "text/plain": [
       "tensor([[-7.3248]], grad_fn=<TopkBackward>)"
      ]
     },
     "execution_count": 23,
     "metadata": {},
     "output_type": "execute_result"
    }
   ],
   "source": [
    "topv"
   ]
  },
  {
   "cell_type": "markdown",
   "metadata": {},
   "source": [
    "# 训练\n",
    "\n",
    "## 准备训练数据\n",
    "\n",
    "每对训练数据，包含输入张量（输入句子中的单词的索引）和目标张量（目标句子中的单词的索引）。 在创建这些向量时，我们会将 EOS 标记附加到两个序列中。"
   ]
  },
  {
   "cell_type": "code",
   "execution_count": 24,
   "metadata": {
    "collapsed": true
   },
   "outputs": [],
   "source": [
    "def indexesFromSentence(lang, sentence):\n",
    "    return [lang.word2index[word] for word in sentence.split(' ')]\n",
    "\n",
    "\n",
    "def tensorFromSentence(lang, sentence):\n",
    "    indexes = indexesFromSentence(lang, sentence)\n",
    "    indexes.append(EOS_token)\n",
    "    return torch.tensor(indexes, dtype=torch.long, device=device).view(-1, 1)\n",
    "\n",
    "\n",
    "def tensorsFromPair(input_lang, output_lang, pair):\n",
    "    input_tensor = tensorFromSentence(input_lang, pair[0])\n",
    "    target_tensor = tensorFromSentence(output_lang, pair[1])\n",
    "    return (input_tensor, target_tensor)"
   ]
  },
  {
   "cell_type": "markdown",
   "metadata": {},
   "source": [
    "## Training the Model\n",
    "\n",
    "训练时，我们让 input sentense 通过编码器，并跟踪每个输出和最后的隐藏状态。然后，`<SOS>` 作为解码器的第一个输入，并且编码器的最后隐藏状态作为接一个输入的隐藏状态。\n",
    "\n",
    "\"Teacher forcing\"是使用真实的 target word 代替解码器的输入作为下一个输入。使用\"Teacher forcing\"可以使网络收敛得更快，但是当训练完成实际使用时，可能模型会不稳定。我们可以以一定的概率使用这个方法。"
   ]
  },
  {
   "cell_type": "code",
   "execution_count": 25,
   "metadata": {
    "collapsed": true
   },
   "outputs": [],
   "source": [
    "teacher_forcing_ratio = 0.5\n",
    "\n",
    "\n",
    "def train(input_tensor, target_tensor, encoder, decoder, encoder_optimizer, decoder_optimizer, criterion, max_length=MAX_LENGTH):\n",
    "    encoder_hidden = encoder.initHidden()\n",
    "\n",
    "    encoder_optimizer.zero_grad()\n",
    "    decoder_optimizer.zero_grad()\n",
    "\n",
    "    input_length = input_tensor.size(0)\n",
    "    target_length = target_tensor.size(0)\n",
    "\n",
    "    encoder_outputs = torch.zeros(max_length, encoder.hidden_size, device=device)\n",
    "\n",
    "    loss = 0\n",
    "\n",
    "    for ei in range(input_length):\n",
    "        encoder_output, encoder_hidden = encoder(\n",
    "            input_tensor[ei], encoder_hidden)\n",
    "        encoder_outputs[ei] = encoder_output[0, 0]\n",
    "\n",
    "    decoder_input = torch.tensor([[SOS_token]], device=device)\n",
    "\n",
    "    decoder_hidden = encoder_hidden\n",
    "\n",
    "    use_teacher_forcing = True if random.random() < teacher_forcing_ratio else False\n",
    "\n",
    "    if use_teacher_forcing:\n",
    "        # Teacher forcing: Feed the target as the next input\n",
    "        for di in range(target_length):\n",
    "            decoder_output, decoder_hidden, decoder_attention = decoder(\n",
    "                decoder_input, decoder_hidden, encoder_outputs)\n",
    "            loss += criterion(decoder_output, target_tensor[di])\n",
    "            decoder_input = target_tensor[di]  # Teacher forcing\n",
    "\n",
    "    else:\n",
    "        # Without teacher forcing: use its own predictions as the next input\n",
    "        for di in range(target_length):\n",
    "            decoder_output, decoder_hidden, decoder_attention = decoder(\n",
    "                decoder_input, decoder_hidden, encoder_outputs)\n",
    "            topv, topi = decoder_output.topk(1)\n",
    "            decoder_input = topi.squeeze().detach()  # detach from history as input\n",
    "\n",
    "            loss += criterion(decoder_output, target_tensor[di])\n",
    "            if decoder_input.item() == EOS_token:\n",
    "                break\n",
    "\n",
    "    loss.backward()\n",
    "\n",
    "    encoder_optimizer.step()\n",
    "    decoder_optimizer.step()\n",
    "\n",
    "    return loss.item() / target_length"
   ]
  },
  {
   "cell_type": "markdown",
   "metadata": {},
   "source": [
    "这是一个用于打印预测时间进度的函数。"
   ]
  },
  {
   "cell_type": "code",
   "execution_count": 26,
   "metadata": {
    "collapsed": true
   },
   "outputs": [],
   "source": [
    "import time\n",
    "import math\n",
    "\n",
    "\n",
    "def asMinutes(s):\n",
    "    m = math.floor(s / 60)\n",
    "    s -= m * 60\n",
    "    return '%dm %ds' % (m, s)\n",
    "\n",
    "\n",
    "def timeSince(since, percent):\n",
    "    now = time.time()\n",
    "    s = now - since\n",
    "    es = s / (percent)\n",
    "    rs = es - s\n",
    "    return '%s (- %s)' % (asMinutes(s), asMinutes(rs))"
   ]
  },
  {
   "cell_type": "markdown",
   "metadata": {},
   "source": [
    "The whole training process looks like this:\n",
    "\n",
    "-  Start a timer\n",
    "-  Initialize optimizers and criterion\n",
    "-  Create set of training pairs\n",
    "-  Start empty losses array for plotting\n",
    "\n",
    "Then we call ``train`` many times and occasionally print the progress (%\n",
    "of examples, time so far, estimated time) and average loss.\n",
    "\n",
    "整个训练过程如下：\n",
    "\n",
    "- 启动计时器\n",
    "- 初始化优化器和criterion\n",
    "- 创建训练对\n",
    "- 创建一个空的 loss 数组来保存打印的信息\n",
    "\n",
    "然后我们多次调用 train ，定时打印进度（百分比，到目前为止的时间，估计的时间）和平均损失。"
   ]
  },
  {
   "cell_type": "code",
   "execution_count": 27,
   "metadata": {
    "collapsed": true
   },
   "outputs": [],
   "source": [
    "def trainIters(encoder, decoder, input_lang, output_lang, encoder_optimizer, \n",
    "               decoder_optimizer, save_dir, n_iteration, sign, save_every=1000, \n",
    "               print_every=1000, plot_every=100, learning_rate=0.01, start_iteration=1):\n",
    "    start = time.time()\n",
    "    plot_losses = []\n",
    "    print_loss_total = 0  # Reset every print_every\n",
    "    plot_loss_total = 0  # Reset every plot_every\n",
    "    \n",
    "    training_pairs = [tensorsFromPair(input_lang, output_lang, random.choice(pairs))\n",
    "                      for i in range(n_iteration)]\n",
    "    \n",
    "#     training_batches = [tensorsFromPair(input_lang, output_lang, random.choice(pairs))\n",
    "#                       for i in range(n_iteration)]\n",
    "    \n",
    "    criterion = nn.NLLLoss()\n",
    "\n",
    "    for iteration in range(start_iteration, n_iteration + 1):\n",
    "        training_pair = training_pairs[iteration - 1]\n",
    "        input_tensor = training_pair[0]\n",
    "        target_tensor = training_pair[1]\n",
    "\n",
    "        loss = train(input_tensor, target_tensor, encoder,\n",
    "                     decoder, encoder_optimizer, decoder_optimizer, criterion)\n",
    "        print_loss_total += loss\n",
    "        plot_loss_total += loss\n",
    "\n",
    "        if iteration % print_every == 0:\n",
    "            print_loss_avg = print_loss_total / print_every\n",
    "            print_loss_total = 0\n",
    "            print('%s (%d %d%%) %.4f' % (timeSince(start, iteration / n_iteration),\n",
    "                                         iteration, iteration / n_iteration * 100, print_loss_avg))\n",
    "\n",
    "        if iteration % plot_every == 0:\n",
    "            plot_loss_avg = plot_loss_total / plot_every\n",
    "            plot_losses.append(plot_loss_avg)\n",
    "            plot_loss_total = 0\n",
    "            \n",
    "        if iteration % save_every == 0:\n",
    "            filename = os.path.join(save_dir, '{}-{}-{}_{}.tar'.format(input_lang.name, output_lang.name, \n",
    "                                                                       sign, iteration))\n",
    "            torch.save({\n",
    "                'iteration': iteration,\n",
    "                'en': encoder.state_dict(),\n",
    "                'de': decoder.state_dict(),\n",
    "                'en_opt': encoder_optimizer.state_dict(),\n",
    "                'de_opt': decoder_optimizer.state_dict(),\n",
    "                'loss': loss,\n",
    "                'input_lang': input_lang.__dict__,\n",
    "                'output_lang': output_lang.__dict__,\n",
    "            }, filename)\n",
    "            \n",
    "            \n",
    "    showPlot(plot_losses)"
   ]
  },
  {
   "cell_type": "markdown",
   "metadata": {},
   "source": [
    "## 画出结果"
   ]
  },
  {
   "cell_type": "code",
   "execution_count": 28,
   "metadata": {
    "collapsed": true
   },
   "outputs": [],
   "source": [
    "import matplotlib.pyplot as plt\n",
    "plt.switch_backend('agg')\n",
    "import matplotlib.ticker as ticker\n",
    "import numpy as np\n",
    "\n",
    "\n",
    "def showPlot(points):\n",
    "    plt.figure()\n",
    "    fig, ax = plt.subplots()\n",
    "    # this locator puts ticks at regular intervals\n",
    "    loc = ticker.MultipleLocator(base=0.2)\n",
    "    ax.yaxis.set_major_locator(loc)\n",
    "    plt.plot(points)"
   ]
  },
  {
   "cell_type": "markdown",
   "metadata": {},
   "source": [
    "## 评价\n",
    "评价与训练大致相同，但没有目标，因此我们只需将解码器的预测反馈给每个步骤。 每次它预测一个单词时我们都会将它添加到输出字符串中，如果它预测了 EOS 标记就会停止。 我们还存储解码器的注意力输出以供稍后显示。"
   ]
  },
  {
   "cell_type": "code",
   "execution_count": 29,
   "metadata": {
    "collapsed": true
   },
   "outputs": [],
   "source": [
    "def evaluate(encoder, decoder, sentence, max_length=MAX_LENGTH):\n",
    "    with torch.no_grad():\n",
    "        input_tensor = tensorFromSentence(input_lang, sentence)\n",
    "        input_length = input_tensor.size()[0]\n",
    "        encoder_hidden = encoder.initHidden()\n",
    "\n",
    "        encoder_outputs = torch.zeros(max_length, encoder.hidden_size, device=device)\n",
    "\n",
    "        for ei in range(input_length):\n",
    "            encoder_output, encoder_hidden = encoder(input_tensor[ei],\n",
    "                                                     encoder_hidden)\n",
    "            encoder_outputs[ei] += encoder_output[0, 0]\n",
    "\n",
    "        decoder_input = torch.tensor([[SOS_token]], device=device)  # SOS\n",
    "\n",
    "        decoder_hidden = encoder_hidden\n",
    "\n",
    "        decoded_words = []\n",
    "        decoder_attentions = torch.zeros(max_length, max_length)\n",
    "\n",
    "        for di in range(max_length):\n",
    "            decoder_output, decoder_hidden, decoder_attention = decoder(\n",
    "                decoder_input, decoder_hidden, encoder_outputs)\n",
    "            decoder_attentions[di] = decoder_attention.data\n",
    "            topv, topi = decoder_output.data.topk(1)\n",
    "            if topi.item() == EOS_token:\n",
    "                decoded_words.append('<EOS>')\n",
    "                break\n",
    "            else:\n",
    "                decoded_words.append(output_lang.index2word[topi.item()])\n",
    "\n",
    "            decoder_input = topi.squeeze().detach()\n",
    "\n",
    "        return decoded_words, decoder_attentions[:di + 1]"
   ]
  },
  {
   "cell_type": "markdown",
   "metadata": {},
   "source": [
    "我们可以从训练集中随机选择句子进行评估并打印输入，目标和输出用来做一些主观直觉判断："
   ]
  },
  {
   "cell_type": "code",
   "execution_count": 30,
   "metadata": {
    "collapsed": true
   },
   "outputs": [],
   "source": [
    "def evaluateRandomly(encoder, decoder, n=10):\n",
    "    for i in range(n):\n",
    "        pair = random.choice(pairs)\n",
    "        print('>', pair[0])\n",
    "        print('=', pair[1])\n",
    "        output_words, attentions = evaluate(encoder, decoder, pair[0])\n",
    "        output_sentence = ' '.join(output_words)\n",
    "        print('<', output_sentence)\n",
    "        print('')"
   ]
  },
  {
   "cell_type": "markdown",
   "metadata": {},
   "source": [
    "# 训练和评价"
   ]
  },
  {
   "cell_type": "code",
   "execution_count": 31,
   "metadata": {
    "scrolled": true
   },
   "outputs": [
    {
     "name": "stdout",
     "output_type": "stream",
     "text": [
      "Reading lines...\n",
      "Read 160872 sentence pairs\n",
      "Trimmed to 12244 sentence pairs\n",
      "Counting words...\n",
      "Counted words:\n",
      "fra 4785\n",
      "eng 3116\n",
      "1m 9s (- 16m 6s) (5000 6%) 2.9303\n",
      "2m 16s (- 14m 45s) (10000 13%) 2.3718\n",
      "3m 23s (- 13m 33s) (15000 20%) 2.0450\n",
      "4m 31s (- 12m 26s) (20000 26%) 1.8544\n",
      "5m 39s (- 11m 19s) (25000 33%) 1.6496\n",
      "6m 47s (- 10m 11s) (30000 40%) 1.4802\n",
      "7m 55s (- 9m 3s) (35000 46%) 1.3515\n",
      "9m 4s (- 7m 56s) (40000 53%) 1.2338\n",
      "10m 12s (- 6m 48s) (45000 60%) 1.1309\n",
      "11m 21s (- 5m 40s) (50000 66%) 1.0158\n",
      "12m 29s (- 4m 32s) (55000 73%) 0.9558\n",
      "13m 38s (- 3m 24s) (60000 80%) 0.9017\n",
      "14m 47s (- 2m 16s) (65000 86%) 0.8331\n",
      "15m 55s (- 1m 8s) (70000 93%) 0.7754\n",
      "17m 4s (- 0m 0s) (75000 100%) 0.7249\n"
     ]
    },
    {
     "data": {
      "text/plain": [
       "<matplotlib.figure.Figure at 0x7f6569cd0470>"
      ]
     },
     "metadata": {},
     "output_type": "display_data"
    },
    {
     "data": {
      "image/png": "[encoded data removed]",
      "text/plain": [
       "<matplotlib.figure.Figure at 0x7f6569cceb38>"
      ]
     },
     "metadata": {},
     "output_type": "display_data"
    }
   ],
   "source": [
    "save_dir = 'data/translation'\n",
    "sign = 'CustomizeDecoderRNN_general'\n",
    "checkpoint_iteration = 75000\n",
    "n_iteration = 75000\n",
    "input_lang, output_lang, pairs = prepareData('eng', 'fra', True)\n",
    "learning_rate = 0.01\n",
    "start_iteration = 1\n",
    "save_every=5000\n",
    "print_every=5000\n",
    "plot_every=100\n",
    "load_filename = None\n",
    "# load_filename = os.path.join(save_dir, '{}-{}-{}_{}.tar'.format(input_lang.name, output_lang.name, sign, checkpoint_iteration))\n",
    "\n",
    "\n",
    "hidden_size = 256\n",
    "encoder = EncoderRNN(input_lang.n_words, hidden_size)\n",
    "# decoder = CustomizeDecoderRNN('general',hidden_size, output_lang.n_words, dropout_p=0.1)\n",
    "decoder = AttnDecoderRNN(hidden_size, output_lang.n_words, dropout_p=0.1).to(device)\n",
    "encoder_optimizer = optim.SGD(encoder.parameters(), lr=learning_rate)\n",
    "decoder_optimizer = optim.SGD(decoder.parameters(), lr=learning_rate)\n",
    "\n",
    "if load_filename:\n",
    "    checkpoint = torch.load(load_filename)\n",
    "    start_iteration = checkpoint['iteration']\n",
    "    encoder_sd = checkpoint['en']\n",
    "    encoder.load_state_dict(encoder_sd)\n",
    "    decoder_sd = checkpoint['de']\n",
    "    decoder.load_state_dict(decoder_sd)\n",
    "    encoder_op_sd = checkpoint['en_opt']\n",
    "    encoder_optimizer.load_state_dict(encoder_op_sd)\n",
    "    decoder_op_sd = checkpoint['de_opt']\n",
    "    decoder_optimizer.load_state_dict(decoder_op_sd)\n",
    "    input_lang.__dict__ = checkpoint['input_lang']\n",
    "    output_lang.__dict__ = checkpoint['output_lang']\n",
    "    \n",
    "    \n",
    "encoder = encoder.to(device)\n",
    "decoder = decoder.to(device)\n",
    "\n",
    "%matplotlib inline\n",
    "trainIters(encoder, decoder, input_lang, output_lang, encoder_optimizer, decoder_optimizer,\n",
    "           save_dir, n_iteration, sign, save_every, print_every, plot_every,learning_rate, start_iteration)\n",
    "\n",
    "hidden_size = 256\n",
    "encoder1 = EncoderRNN(input_lang.n_words, hidden_size).to(device)\n",
    "attn_decoder1 = AttnDecoderRNN(hidden_size, output_lang.n_words, dropout_p=0.1).to(device)\n",
    "\n",
    "# trainIters(encoder1, attn_decoder1, 75000, print_every=5000)"
   ]
  },
  {
   "cell_type": "code",
   "execution_count": 32,
   "metadata": {
    "scrolled": true
   },
   "outputs": [
    {
     "name": "stdout",
     "output_type": "stream",
     "text": [
      "> je n en suis pas convaincue .\n",
      "= i m not convinced of that .\n",
      "< i m not convinced of that . <EOS>\n",
      "\n",
      "> nous allons essayer .\n",
      "= we re going to try .\n",
      "< we re going to try . <EOS>\n",
      "\n",
      "> je suis sure que ca peut attendre .\n",
      "= i m sure this can wait .\n",
      "< i m sure this can this . . <EOS>\n",
      "\n",
      "> je suis plutot occupe ce soir .\n",
      "= i m kind of busy tonight .\n",
      "< i m kind of busy tonight . <EOS>\n",
      "\n",
      "> elles sont riches .\n",
      "= they re rich .\n",
      "< they re rich . <EOS>\n",
      "\n",
      "> vous etes responsables de ce que vous faites .\n",
      "= you are responsible for what you do .\n",
      "< you re responsible for what you do . <EOS>\n",
      "\n",
      "> vous n etes pas si vieilles .\n",
      "= you re not that old .\n",
      "< you re not that old . <EOS>\n",
      "\n",
      "> je suis crevee .\n",
      "= i m exhausted .\n",
      "< i m exhausted . <EOS>\n",
      "\n",
      "> je ne suis pas toujours libre le dimanche .\n",
      "= i m not always free on sundays .\n",
      "< i am not always free on sundays . <EOS>\n",
      "\n",
      "> tu es sur la mauvaise route .\n",
      "= you re on the wrong road .\n",
      "< you re on the wrong . <EOS>\n",
      "\n"
     ]
    }
   ],
   "source": [
    "evaluateRandomly(encoder, decoder)"
   ]
  },
  {
   "cell_type": "markdown",
   "metadata": {},
   "source": [
    "## 注意力可视化\n",
    "\n",
    "注意机制的一个有用特性是其输出有高度可解释性。 因为它用于对输入序列时间步的编码器输出进行加权，所以我们可以想象在每个时间步上网络最关注的位置在哪里。"
   ]
  },
  {
   "cell_type": "code",
   "execution_count": 33,
   "metadata": {},
   "outputs": [
    {
     "data": {
      "text/plain": [
       "<matplotlib.image.AxesImage at 0x7f656a6de630>"
      ]
     },
     "execution_count": 33,
     "metadata": {},
     "output_type": "execute_result"
    },
    {
     "data": {
      "image/png": "[encoded data removed]",
      "text/plain": [
       "<matplotlib.figure.Figure at 0x7f6569d0f320>"
      ]
     },
     "metadata": {},
     "output_type": "display_data"
    }
   ],
   "source": [
    "output_words, attentions = evaluate(\n",
    "    encoder, decoder, \"je suis trop froid .\")\n",
    "plt.matshow(attentions.numpy())"
   ]
  },
  {
   "cell_type": "code",
   "execution_count": 34,
   "metadata": {},
   "outputs": [
    {
     "name": "stdout",
     "output_type": "stream",
     "text": [
      "input = elle a cinq ans de moins que moi .\n",
      "output = she s five years younger than me . <EOS>\n"
     ]
    },
    {
     "data": {
      "image/png": "[encoded data removed]",
      "text/plain": [
       "<matplotlib.figure.Figure at 0x7f655794b470>"
      ]
     },
     "metadata": {},
     "output_type": "display_data"
    },
    {
     "name": "stdout",
     "output_type": "stream",
     "text": [
      "input = elle est trop petit .\n",
      "output = she s too trusting . <EOS>\n"
     ]
    },
    {
     "data": {
      "image/png": "[encoded data removed]",
      "text/plain": [
       "<matplotlib.figure.Figure at 0x7f65578c8630>"
      ]
     },
     "metadata": {},
     "output_type": "display_data"
    },
    {
     "name": "stdout",
     "output_type": "stream",
     "text": [
      "input = je ne crains pas de mourir .\n",
      "output = i m not scared of die . <EOS>\n"
     ]
    },
    {
     "data": {
      "image/png": "[encoded data removed]",
      "text/plain": [
       "<matplotlib.figure.Figure at 0x7f6569fbf780>"
      ]
     },
     "metadata": {},
     "output_type": "display_data"
    },
    {
     "name": "stdout",
     "output_type": "stream",
     "text": [
      "input = c est un jeune directeur plein de talent .\n",
      "output = he s a talented talented talented . <EOS>\n"
     ]
    },
    {
     "data": {
      "image/png": "[encoded data removed]",
      "text/plain": [
       "<matplotlib.figure.Figure at 0x7f65576c4f60>"
      ]
     },
     "metadata": {},
     "output_type": "display_data"
    }
   ],
   "source": [
    "def showAttention(input_sentence, output_words, attentions):\n",
    "    # Set up figure with colorbar\n",
    "    fig = plt.figure()\n",
    "    ax = fig.add_subplot(111)\n",
    "    cax = ax.matshow(attentions.numpy(), cmap='bone')\n",
    "    fig.colorbar(cax)\n",
    "\n",
    "    # Set up axes\n",
    "    ax.set_xticklabels([''] + input_sentence.split(' ') +\n",
    "                       ['<EOS>'], rotation=90)\n",
    "    ax.set_yticklabels([''] + output_words)\n",
    "\n",
    "    # Show label at every tick\n",
    "    ax.xaxis.set_major_locator(ticker.MultipleLocator(1))\n",
    "    ax.yaxis.set_major_locator(ticker.MultipleLocator(1))\n",
    "\n",
    "    plt.show()\n",
    "\n",
    "\n",
    "def evaluateAndShowAttention(input_sentence):\n",
    "    output_words, attentions = evaluate(\n",
    "        encoder, decoder, input_sentence)\n",
    "    print('input =', input_sentence)\n",
    "    print('output =', ' '.join(output_words))\n",
    "    showAttention(input_sentence, output_words, attentions)\n",
    "\n",
    "\n",
    "evaluateAndShowAttention(\"elle a cinq ans de moins que moi .\")\n",
    "\n",
    "evaluateAndShowAttention(\"elle est trop petit .\")\n",
    "\n",
    "evaluateAndShowAttention(\"je ne crains pas de mourir .\")\n",
    "\n",
    "evaluateAndShowAttention(\"c est un jeune directeur plein de talent .\")"
   ]
  },
  {
   "cell_type": "code",
   "execution_count": 35,
   "metadata": {},
   "outputs": [
    {
     "name": "stdout",
     "output_type": "stream",
     "text": [
      "input = c est\n",
      "output = he m being angry . <EOS>\n"
     ]
    },
    {
     "data": {
      "image/png": "[encoded data removed]",
      "text/plain": [
       "<matplotlib.figure.Figure at 0x7f6557964da0>"
      ]
     },
     "metadata": {},
     "output_type": "display_data"
    }
   ],
   "source": [
    "evaluateAndShowAttention('c est')"
   ]
  }
 ],
 "metadata": {
  "kernelspec": {
   "display_name": "Python 3",
   "language": "python",
   "name": "python3"
  },
  "language_info": {
   "codemirror_mode": {
    "name": "ipython",
    "version": 3
   },
   "file_extension": ".py",
   "mimetype": "text/x-python",
   "name": "python",
   "nbconvert_exporter": "python",
   "pygments_lexer": "ipython3",
   "version": "3.6.2"
  }
 },
 "nbformat": 4,
 "nbformat_minor": 1
}
